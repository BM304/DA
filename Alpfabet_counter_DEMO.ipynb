{
 "cells": [
  {
   "cell_type": "markdown",
   "metadata": {},
   "source": [
    "## Подсчет частоты появления букв русского алфавита в словах\n",
    "на примере романа Л.Н.Толстого \"Война и мир\""
   ]
  },
  {
   "cell_type": "code",
   "execution_count": 1,
   "metadata": {},
   "outputs": [],
   "source": [
    "import matplotlib.pyplot as plt\n",
    "import numpy as np\n",
    "import pandas as pd \n",
    "from tqdm import tqdm_notebook \n",
    "import re\n",
    "ABC = ['а', 'б', 'в', 'г', 'д', 'е', 'ё', 'ж', 'з', 'и', 'й', 'к', \n",
    "       'л', 'м', 'н', 'о', 'п', 'р', 'с', 'т', 'у', 'ф', 'х', 'ц', 'ч', 'ш', 'щ', 'ъ', 'ы', 'ь', 'э', 'ю', 'я']"
   ]
  },
  {
   "cell_type": "markdown",
   "metadata": {},
   "source": [
    "#### Роман будет представлен в коде как строковова переменная _str_ . Для сняти ограничений на размер переменной используем тройные кавычки _\"\"\"_. \n",
    "_Например:_"
   ]
  },
  {
   "cell_type": "code",
   "execution_count": 2,
   "metadata": {},
   "outputs": [
    {
     "data": {
      "text/plain": [
       "'Бывший чиновник интендантского управления, отставной коллежский секретарь Лахматов, сидел у себя за столом и, выпивая шестнадцатую рюмку, размышлял о братстве, равенстве и свободе. Вдруг из-за лампы выглянул на него чёрт… Но не пугайтесь, читательница. Вы знаете, что такое чёрт? Это молодой человек приятной наружности, с черной, как сапоги, рожей и с красными выразительными глазами. На голове у него, хотя он и не женат, рожки… Прическа а la Капуль. Тело покрыто зеленой шерстью и пахнет псиной. Внизу спины болтается хвост, оканчивающийся стрелой… Вместо пальцев — когти, вместо ног — лошадиные копыта. Лахматов, увидев чёрта, несколько смутился, но потом, вспомнив, что зеленые черти имеют глупое обыкновение являться ко всем вообще подвыпившим людям, скоро успокоился.\\nС кем я имею честь говорить? — обратился он к непрошенному гостю.\\n\\nЧёрт сконфузился и потупил глазки.\\n\\n— Вы не стесняйтесь, — продолжал Лахматов. — Подойдите ближе… Я человек без предрассудков, и вы можете говорить со мной искренно… по душе… Кто вы?\\n\\nЧёрт нерешительно подошел к Лахматову и, подогнув под себя хвост, вежливо поклонился.\\n\\n— Я чёрт, или дьявол… — отрекомендовался он. — Состою чиновником особых поручений при особе его превосходительства директора адской канцелярии г. Сатаны!\\n\\n— Слышал, слышал… Очень приятно. Садитесь! Не хотите ли водки? Очень рад… А чем вы занимаетесь?'"
      ]
     },
     "execution_count": 2,
     "metadata": {},
     "output_type": "execute_result"
    }
   ],
   "source": [
    "example = \"\"\"Бывший чиновник интендантского управления, отставной коллежский секретарь Лахматов, сидел у себя за столом и, выпивая шестнадцатую рюмку, размышлял о братстве, равенстве и свободе. Вдруг из-за лампы выглянул на него чёрт… Но не пугайтесь, читательница. Вы знаете, что такое чёрт? Это молодой человек приятной наружности, с черной, как сапоги, рожей и с красными выразительными глазами. На голове у него, хотя он и не женат, рожки… Прическа а la Капуль. Тело покрыто зеленой шерстью и пахнет псиной. Внизу спины болтается хвост, оканчивающийся стрелой… Вместо пальцев — когти, вместо ног — лошадиные копыта. Лахматов, увидев чёрта, несколько смутился, но потом, вспомнив, что зеленые черти имеют глупое обыкновение являться ко всем вообще подвыпившим людям, скоро успокоился.\n",
    "С кем я имею честь говорить? — обратился он к непрошенному гостю.\n",
    "\n",
    "Чёрт сконфузился и потупил глазки.\n",
    "\n",
    "— Вы не стесняйтесь, — продолжал Лахматов. — Подойдите ближе… Я человек без предрассудков, и вы можете говорить со мной искренно… по душе… Кто вы?\n",
    "\n",
    "Чёрт нерешительно подошел к Лахматову и, подогнув под себя хвост, вежливо поклонился.\n",
    "\n",
    "— Я чёрт, или дьявол… — отрекомендовался он. — Состою чиновником особых поручений при особе его превосходительства директора адской канцелярии г. Сатаны!\n",
    "\n",
    "— Слышал, слышал… Очень приятно. Садитесь! Не хотите ли водки? Очень рад… А чем вы занимаетесь?\"\"\"\n",
    "example"
   ]
  },
  {
   "cell_type": "markdown",
   "metadata": {},
   "source": [
    "#### Загружаем роман и переводим все символы в нижний регистр"
   ]
  },
  {
   "cell_type": "code",
   "execution_count": 3,
   "metadata": {},
   "outputs": [],
   "source": [
    "with open('r1.txt', 'r', ) as novel:  #encoding='cp1251'\n",
    "     novel = str(novel.read()).lower()"
   ]
  },
  {
   "cell_type": "markdown",
   "metadata": {},
   "source": [
    "#### Подсчитаем, как часто в тексте встречается та или иная буква русского алфавита"
   ]
  },
  {
   "cell_type": "code",
   "execution_count": 4,
   "metadata": {},
   "outputs": [
    {
     "name": "stderr",
     "output_type": "stream",
     "text": [
      "<ipython-input-4-be84c7629073>:2: TqdmDeprecationWarning: This function will be removed in tqdm==5.0.0\n",
      "Please use `tqdm.notebook.tqdm` instead of `tqdm.tqdm_notebook`\n",
      "  for litera in tqdm_notebook(ABC):\n"
     ]
    },
    {
     "data": {
      "application/vnd.jupyter.widget-view+json": {
       "model_id": "1cdd2d5fe32a4db1a49d181811e4edae",
       "version_major": 2,
       "version_minor": 0
      },
      "text/plain": [
       "HBox(children=(HTML(value=''), FloatProgress(value=0.0, max=33.0), HTML(value='')))"
      ]
     },
     "metadata": {},
     "output_type": "display_data"
    },
    {
     "name": "stdout",
     "output_type": "stream",
     "text": [
      "\n"
     ]
    }
   ],
   "source": [
    "count = {}\n",
    "for litera in tqdm_notebook(ABC):\n",
    "    count[litera] = novel.count(litera)\n",
    "       "
   ]
  },
  {
   "cell_type": "code",
   "execution_count": 5,
   "metadata": {},
   "outputs": [
    {
     "data": {
      "text/plain": [
       "{'а': 188632,\n",
       " 'б': 40008,\n",
       " 'в': 106487,\n",
       " 'г': 45312,\n",
       " 'д': 70720,\n",
       " 'е': 190761,\n",
       " 'ё': 115,\n",
       " 'ж': 24521,\n",
       " 'з': 39427,\n",
       " 'и': 156155,\n",
       " 'й': 25752,\n",
       " 'к': 77306,\n",
       " 'л': 115339,\n",
       " 'м': 68207,\n",
       " 'н': 149070,\n",
       " 'о': 265247,\n",
       " 'п': 60592,\n",
       " 'р': 101962,\n",
       " 'с': 122689,\n",
       " 'т': 135022,\n",
       " 'у': 62626,\n",
       " 'ф': 4712,\n",
       " 'х': 19800,\n",
       " 'ц': 8346,\n",
       " 'ч': 33281,\n",
       " 'ш': 21382,\n",
       " 'щ': 6812,\n",
       " 'ъ': 988,\n",
       " 'ы': 44573,\n",
       " 'ь': 44927,\n",
       " 'э': 7062,\n",
       " 'ю': 14176,\n",
       " 'я': 50678}"
      ]
     },
     "execution_count": 5,
     "metadata": {},
     "output_type": "execute_result"
    }
   ],
   "source": [
    "count"
   ]
  },
  {
   "cell_type": "code",
   "execution_count": 6,
   "metadata": {},
   "outputs": [
    {
     "name": "stderr",
     "output_type": "stream",
     "text": [
      "<ipython-input-6-2014e3aa4162>:7: UserWarning: FixedFormatter should only be used together with FixedLocator\n",
      "  ax.set_xticklabels(ABC, c='#0087CD', fontsize=10, rotation=0)\n",
      "<ipython-input-6-2014e3aa4162>:9: UserWarning: FixedFormatter should only be used together with FixedLocator\n",
      "  ax.set_yticklabels([str(a)+'%' for a in np.linspace(0, 12, 7 )], c='#0087CD', fontsize=10, rotation=0) #[str(round(c*100, 2)) + '%' for c in cc]\n"
     ]
    },
    {
     "data": {
      "image/png": "[encoded data removed]",
      "text/plain": [
       "<Figure size 864x504 with 1 Axes>"
      ]
     },
     "metadata": {
      "needs_background": "light"
     },
     "output_type": "display_data"
    }
   ],
   "source": [
    "countvalues = list(count.values())\n",
    "cc = countvalues/np.sum(countvalues)\n",
    "_, ax =  plt.subplots(1,1, figsize=(12,7))\n",
    "plt.title('Частотность букв русского алфавита на примере романа \"Война и Мир\"',c='#0087CD', fontsize=17)\n",
    "plt.bar(count.keys(),cc, color = '#00D900', alpha=.65)\n",
    "ax.set_xticklabels([])\n",
    "ax.set_xticklabels(ABC, c='#0087CD', fontsize=10, rotation=0)\n",
    "ax.set_yticklabels([])\n",
    "ax.set_yticklabels([str(a)+'%' for a in np.linspace(0, 12, 7 )], c='#0087CD', fontsize=10, rotation=0) #[str(round(c*100, 2)) + '%' for c in cc]\n",
    "plt.show()"
   ]
  },
  {
   "cell_type": "markdown",
   "metadata": {},
   "source": [
    "#### Теперь выясним как распределяется количество букв _о_ в словах"
   ]
  },
  {
   "cell_type": "code",
   "execution_count": 7,
   "metadata": {},
   "outputs": [],
   "source": [
    "# спиок \"мусорных\" слов\n",
    "exceptions = ['–', '-', '*', 'i','ii', 'iii', 'iv','v','vi', 'vii', 'viii', 'ix', 'x','xi','xii', 'xiii', 'xiv',\n",
    " 'xv', 'xvi', 'xvii', 'xviii', 'xix', 'xx', 'xxi', 'xxii', 'xxiii', 'xxiv', 'xxv', 'xxvi', 'xxvii', '', \"notes1\" ]\n",
    "exceptions = exceptions + [str(i) for i in range (1000)] +  [\"\".join((\"[\",str(i),\"]\")) for i in range (1000)]"
   ]
  },
  {
   "cell_type": "code",
   "execution_count": 8,
   "metadata": {},
   "outputs": [
    {
     "name": "stdout",
     "output_type": "stream",
     "text": [
      "Всего 481854 слов\n",
      "Используется 460662 слов\n",
      "CPU times: user 9.66 s, sys: 32.7 ms, total: 9.69 s\n",
      "Wall time: 9.7 s\n"
     ]
    }
   ],
   "source": [
    "%%time\n",
    "novel = novel.replace(\"\\n\\n\", \" \") # чистим множественные переносы без пробелов\n",
    "exsp = novel.split(' ')\n",
    "print (\"Всего {} слов\".format(len(exsp)))\n",
    "# убираем \"мусорные\" слова и слова на французском\n",
    "exsp = list(filter(lambda word: word not in exceptions  or  re.fullmatch('[a-z]+[а-я]*[a-z]+', word), exsp))\n",
    "print (\"Используется {} слов\".format(len(exsp)))"
   ]
  },
  {
   "cell_type": "code",
   "execution_count": 9,
   "metadata": {},
   "outputs": [
    {
     "data": {
      "image/png": "[encoded data removed]",
      "text/plain": [
       "<Figure size 432x288 with 1 Axes>"
      ]
     },
     "metadata": {
      "needs_background": "light"
     },
     "output_type": "display_data"
    }
   ],
   "source": [
    "litera = 'о'\n",
    "o = list(map(lambda word: word.count(litera), exsp))\n",
    "plt.hist(o, bins=7);"
   ]
  },
  {
   "cell_type": "code",
   "execution_count": 10,
   "metadata": {},
   "outputs": [
    {
     "name": "stderr",
     "output_type": "stream",
     "text": [
      "<ipython-input-10-7920892ca64a>:15: UserWarning: FixedFormatter should only be used together with FixedLocator\n",
      "  ax.set_yticklabels([y/100 for y in range(0, int(max(y1*100)), int(max(y1*100)//6))], c='#0087CD',\n"
     ]
    },
    {
     "data": {
      "image/png": "[encoded data removed]",
      "text/plain": [
       "<Figure size 864x576 with 1 Axes>"
      ]
     },
     "metadata": {
      "needs_background": "light"
     },
     "output_type": "display_data"
    }
   ],
   "source": [
    "_, ax = plt.subplots(1,1, figsize=(12,8))\n",
    "\n",
    "ylevel, _, _ = plt.hist(o, bins=7, visible=False)\n",
    "xl = [i-1 for i, _ in enumerate(ylevel)]\n",
    "y1 = ylevel/len(o)\n",
    "\n",
    "plt.scatter(xl, ylevel , color = '#21BA72', alpha=.65, lw=17, edgecolors = '#00D900') \n",
    "plt.title('Распределение частотности буквы {} в словах'.format(litera.upper()),c='#0087CD', fontsize=17)\n",
    "\n",
    "ax.set_xticklabels([])\n",
    "ax.set_xticks(xl)\n",
    "ax.set_xticklabels([i for i, _ in enumerate(ylevel)], c='#0087CD', fontsize=10, rotation=0)\n",
    "ax.set_yticklabels([])\n",
    "\n",
    "ax.set_yticklabels([y/100 for y in range(0, int(max(y1*100)), int(max(y1*100)//6))], c='#0087CD',\n",
    "                   fontsize=10, rotation=0) \n",
    "plt.show()\n"
   ]
  },
  {
   "cell_type": "markdown",
   "metadata": {},
   "source": [
    "#### Посмотрим сколько слов с каждой частотой"
   ]
  },
  {
   "cell_type": "code",
   "execution_count": 11,
   "metadata": {},
   "outputs": [
    {
     "data": {
      "text/plain": [
       "[259057.0, 148918.0, 43010.0, 8520.0, 1048.0, 97.0, 12.0]"
      ]
     },
     "execution_count": 11,
     "metadata": {},
     "output_type": "execute_result"
    }
   ],
   "source": [
    "list(ylevel)\n"
   ]
  },
  {
   "cell_type": "code",
   "execution_count": 12,
   "metadata": {},
   "outputs": [
    {
     "data": {
      "text/plain": [
       "['однообразно-разнообразными',\n",
       " 'противоположного',\n",
       " 'ого-го-го-го-го!..»',\n",
       " 'озабоченно-хлопотливой',\n",
       " 'непреодолимо-обворожительным',\n",
       " 'противоположного',\n",
       " 'дорогомиловского',\n",
       " 'дорогомиловского',\n",
       " 'мрачно-сосредоточенного',\n",
       " 'дорогомиловского',\n",
       " 'холодно-спокойно',\n",
       " 'спокойно-самодовольным']"
      ]
     },
     "execution_count": 12,
     "metadata": {},
     "output_type": "execute_result"
    }
   ],
   "source": [
    "big_o = list(filter(lambda word: word.count(litera) == 6 , exsp))\n",
    "big_o"
   ]
  },
  {
   "cell_type": "code",
   "execution_count": 13,
   "metadata": {},
   "outputs": [
    {
     "data": {
      "text/plain": [
       "12"
      ]
     },
     "execution_count": 13,
     "metadata": {},
     "output_type": "execute_result"
    }
   ],
   "source": [
    "len(big_o)"
   ]
  },
  {
   "cell_type": "code",
   "execution_count": null,
   "metadata": {},
   "outputs": [],
   "source": []
  }
 ],
 "metadata": {
  "kernelspec": {
   "display_name": "Python 3",
   "language": "python",
   "name": "python3"
  },
  "language_info": {
   "codemirror_mode": {
    "name": "ipython",
    "version": 3
   },
   "file_extension": ".py",
   "mimetype": "text/x-python",
   "name": "python",
   "nbconvert_exporter": "python",
   "pygments_lexer": "ipython3",
   "version": "3.8.5"
  }
 },
 "nbformat": 4,
 "nbformat_minor": 4
}
