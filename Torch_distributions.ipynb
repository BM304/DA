{
 "cells": [
  {
   "cell_type": "markdown",
   "metadata": {},
   "source": [
    "# Статистика в PyTorch"
   ]
  },
  {
   "cell_type": "code",
   "execution_count": 1,
   "metadata": {},
   "outputs": [],
   "source": [
    "import torch\n",
    "from torch.distributions.bernoulli import Bernoulli\n",
    "from torch.distributions.binomial import Binomial\n",
    "from torch.distributions.poisson import Poisson\n",
    "from torch.distributions.uniform import Uniform\n",
    "from torch.distributions.normal import Normal\n",
    "import matplotlib.pyplot as plt\n",
    "import numpy as np\n",
    "import scipy.stats as sts"
   ]
  },
  {
   "cell_type": "markdown",
   "metadata": {},
   "source": [
    "## Распределение Бернулли"
   ]
  },
  {
   "cell_type": "code",
   "execution_count": 2,
   "metadata": {},
   "outputs": [
    {
     "name": "stderr",
     "output_type": "stream",
     "text": [
      "/Users/zuyev-av/.local/lib/python3.8/site-packages/torch/distributions/distribution.py:161: UserWarning: sample_n will be deprecated. Use .sample((n,)) instead\n",
      "  warnings.warn('sample_n will be deprecated. Use .sample((n,)) instead', UserWarning)\n"
     ]
    },
    {
     "data": {
      "text/plain": [
       "tensor([[0.],\n",
       "        [0.],\n",
       "        [0.],\n",
       "        [1.],\n",
       "        [0.],\n",
       "        [1.],\n",
       "        [0.],\n",
       "        [0.],\n",
       "        [0.],\n",
       "        [1.],\n",
       "        [0.],\n",
       "        [0.],\n",
       "        [0.],\n",
       "        [1.],\n",
       "        [1.],\n",
       "        [1.],\n",
       "        [0.],\n",
       "        [0.],\n",
       "        [0.],\n",
       "        [0.],\n",
       "        [0.],\n",
       "        [1.],\n",
       "        [0.],\n",
       "        [0.],\n",
       "        [0.]])"
      ]
     },
     "execution_count": 2,
     "metadata": {},
     "output_type": "execute_result"
    }
   ],
   "source": [
    "bernoulli_example = Bernoulli(torch.tensor([0.3]))\n",
    "bernoulli_example.sample_n(25) "
   ]
  },
  {
   "cell_type": "code",
   "execution_count": 3,
   "metadata": {},
   "outputs": [
    {
     "data": {
      "text/plain": [
       "tensor([0.2100])"
      ]
     },
     "execution_count": 3,
     "metadata": {},
     "output_type": "execute_result"
    }
   ],
   "source": [
    "bernoulli_example.variance"
   ]
  },
  {
   "cell_type": "code",
   "execution_count": 4,
   "metadata": {},
   "outputs": [
    {
     "data": {
      "text/plain": [
       "tensor([0.3000])"
      ]
     },
     "execution_count": 4,
     "metadata": {},
     "output_type": "execute_result"
    }
   ],
   "source": [
    "bernoulli_example.mean"
   ]
  },
  {
   "cell_type": "code",
   "execution_count": 5,
   "metadata": {},
   "outputs": [
    {
     "data": {
      "text/plain": [
       "tensor([[[0.],\n",
       "         [1.],\n",
       "         [1.],\n",
       "         [0.],\n",
       "         [1.]],\n",
       "\n",
       "        [[0.],\n",
       "         [1.],\n",
       "         [0.],\n",
       "         [0.],\n",
       "         [0.]],\n",
       "\n",
       "        [[0.],\n",
       "         [1.],\n",
       "         [0.],\n",
       "         [1.],\n",
       "         [1.]]])"
      ]
     },
     "execution_count": 5,
     "metadata": {},
     "output_type": "execute_result"
    }
   ],
   "source": [
    "bernoulli_example.sample(sample_shape=torch.Size([3,5]))"
   ]
  },
  {
   "cell_type": "code",
   "execution_count": 6,
   "metadata": {
    "scrolled": true
   },
   "outputs": [
    {
     "data": {
      "image/png": "[encoded data removed]",
      "text/plain": [
       "<Figure size 432x288 with 1 Axes>"
      ]
     },
     "metadata": {
      "needs_background": "light"
     },
     "output_type": "display_data"
    }
   ],
   "source": [
    "bernoulli_example_samples = bernoulli_example.sample_n(15)\n",
    "plt.hist(bernoulli_example_samples);"
   ]
  },
  {
   "cell_type": "code",
   "execution_count": 7,
   "metadata": {},
   "outputs": [
    {
     "data": {
      "image/png": "[encoded data removed]",
      "text/plain": [
       "<Figure size 432x288 with 1 Axes>"
      ]
     },
     "metadata": {
      "needs_background": "light"
     },
     "output_type": "display_data"
    }
   ],
   "source": [
    "plt.hist(bernoulli_example_samples.numpy());"
   ]
  },
  {
   "cell_type": "markdown",
   "metadata": {},
   "source": [
    "## Биномиальное распределение"
   ]
  },
  {
   "cell_type": "code",
   "execution_count": 8,
   "metadata": {},
   "outputs": [
    {
     "data": {
      "text/plain": [
       "tensor([[3.],\n",
       "        [3.],\n",
       "        [0.],\n",
       "        [2.],\n",
       "        [2.],\n",
       "        [1.],\n",
       "        [3.],\n",
       "        [1.],\n",
       "        [2.],\n",
       "        [2.],\n",
       "        [2.],\n",
       "        [3.],\n",
       "        [2.],\n",
       "        [4.],\n",
       "        [3.],\n",
       "        [2.],\n",
       "        [3.],\n",
       "        [5.],\n",
       "        [3.],\n",
       "        [3.],\n",
       "        [2.],\n",
       "        [3.],\n",
       "        [0.],\n",
       "        [0.],\n",
       "        [1.]])"
      ]
     },
     "execution_count": 8,
     "metadata": {},
     "output_type": "execute_result"
    }
   ],
   "source": [
    "BN = Binomial(torch.tensor([7]), torch.tensor([0.3])).sample_n(25) \n",
    "BN"
   ]
  },
  {
   "cell_type": "code",
   "execution_count": 9,
   "metadata": {},
   "outputs": [
    {
     "data": {
      "image/png": "[encoded data removed]",
      "text/plain": [
       "<Figure size 432x288 with 1 Axes>"
      ]
     },
     "metadata": {
      "needs_background": "light"
     },
     "output_type": "display_data"
    }
   ],
   "source": [
    "plt.hist(BN.numpy());"
   ]
  },
  {
   "cell_type": "markdown",
   "metadata": {},
   "source": [
    "## Распределение Пуассона"
   ]
  },
  {
   "cell_type": "code",
   "execution_count": 10,
   "metadata": {},
   "outputs": [
    {
     "data": {
      "text/plain": [
       "tensor([[6.],\n",
       "        [2.],\n",
       "        [2.],\n",
       "        [4.],\n",
       "        [6.],\n",
       "        [4.],\n",
       "        [3.],\n",
       "        [3.],\n",
       "        [3.],\n",
       "        [3.],\n",
       "        [3.],\n",
       "        [3.],\n",
       "        [5.],\n",
       "        [2.],\n",
       "        [5.],\n",
       "        [4.],\n",
       "        [1.],\n",
       "        [2.],\n",
       "        [4.],\n",
       "        [4.],\n",
       "        [4.],\n",
       "        [4.],\n",
       "        [2.],\n",
       "        [3.],\n",
       "        [3.]])"
      ]
     },
     "execution_count": 10,
     "metadata": {},
     "output_type": "execute_result"
    }
   ],
   "source": [
    "P = Poisson(torch.tensor([3.])).sample_n(25)\n",
    "P"
   ]
  },
  {
   "cell_type": "code",
   "execution_count": 11,
   "metadata": {},
   "outputs": [
    {
     "data": {
      "image/png": "[encoded data removed]",
      "text/plain": [
       "<Figure size 432x288 with 1 Axes>"
      ]
     },
     "metadata": {
      "needs_background": "light"
     },
     "output_type": "display_data"
    }
   ],
   "source": [
    "plt.hist(P.numpy(), bins=16);"
   ]
  },
  {
   "cell_type": "markdown",
   "metadata": {},
   "source": [
    "## Равномерное распределение"
   ]
  },
  {
   "cell_type": "code",
   "execution_count": 12,
   "metadata": {},
   "outputs": [
    {
     "data": {
      "text/plain": [
       "tensor([[7.5830],\n",
       "        [7.0019],\n",
       "        [9.0269],\n",
       "        [9.1823],\n",
       "        [7.9868],\n",
       "        [8.7025],\n",
       "        [7.1894],\n",
       "        [8.1242],\n",
       "        [7.9883],\n",
       "        [9.1112],\n",
       "        [7.2876],\n",
       "        [9.1338],\n",
       "        [7.4552],\n",
       "        [8.2946],\n",
       "        [7.2171],\n",
       "        [9.1222],\n",
       "        [8.8920],\n",
       "        [7.8740],\n",
       "        [8.3646],\n",
       "        [7.7631],\n",
       "        [7.4985],\n",
       "        [9.2408],\n",
       "        [9.1596],\n",
       "        [7.5690],\n",
       "        [7.2164]])"
      ]
     },
     "execution_count": 12,
     "metadata": {},
     "output_type": "execute_result"
    }
   ],
   "source": [
    "U = Uniform(torch.tensor([7.]), torch.tensor([9.3])).sample_n(25) \n",
    "U"
   ]
  },
  {
   "cell_type": "code",
   "execution_count": 13,
   "metadata": {},
   "outputs": [
    {
     "data": {
      "image/png": "[encoded data removed]",
      "text/plain": [
       "<Figure size 432x288 with 1 Axes>"
      ]
     },
     "metadata": {
      "needs_background": "light"
     },
     "output_type": "display_data"
    }
   ],
   "source": [
    "plt.hist(U.numpy());"
   ]
  },
  {
   "cell_type": "markdown",
   "metadata": {},
   "source": [
    "## Нормальное распределение"
   ]
  },
  {
   "cell_type": "code",
   "execution_count": 14,
   "metadata": {},
   "outputs": [
    {
     "data": {
      "text/plain": [
       "tensor([[ 1.2468],\n",
       "        [ 2.0245],\n",
       "        [ 0.2730],\n",
       "        [-2.5021],\n",
       "        [ 0.7647],\n",
       "        [ 1.1286],\n",
       "        [ 3.2032],\n",
       "        [ 2.9688],\n",
       "        [-4.2300],\n",
       "        [ 0.7178],\n",
       "        [ 1.4249],\n",
       "        [ 2.6043],\n",
       "        [ 2.4819],\n",
       "        [-0.4577],\n",
       "        [ 0.9222],\n",
       "        [ 1.4525],\n",
       "        [ 2.5102],\n",
       "        [ 2.0475],\n",
       "        [-0.5556],\n",
       "        [ 3.5581],\n",
       "        [ 2.4459],\n",
       "        [-1.2457],\n",
       "        [-2.4233],\n",
       "        [ 2.5531],\n",
       "        [ 1.4492]])"
      ]
     },
     "execution_count": 14,
     "metadata": {},
     "output_type": "execute_result"
    }
   ],
   "source": [
    "N = Normal(torch.tensor([1.]), torch.tensor([2.3])).sample_n(25) \n",
    "N"
   ]
  },
  {
   "cell_type": "code",
   "execution_count": 15,
   "metadata": {},
   "outputs": [
    {
     "data": {
      "image/png": "[encoded data removed]",
      "text/plain": [
       "<Figure size 432x288 with 1 Axes>"
      ]
     },
     "metadata": {
      "needs_background": "light"
     },
     "output_type": "display_data"
    }
   ],
   "source": [
    "plt.hist(N.numpy());"
   ]
  },
  {
   "cell_type": "markdown",
   "metadata": {},
   "source": [
    "### еще вариант..."
   ]
  },
  {
   "cell_type": "code",
   "execution_count": 16,
   "metadata": {},
   "outputs": [
    {
     "data": {
      "text/plain": [
       "torch.return_types.histogram(\n",
       "hist=tensor([1., 0., 0., 0., 0., 0., 0., 0., 0., 0., 0., 1., 0., 0., 0., 0., 0., 1.,\n",
       "        0., 0., 0., 0., 1., 0., 0., 0., 1., 1., 1., 0., 0., 0., 0., 1., 1., 1.,\n",
       "        0., 0., 0., 1., 0., 1., 0., 1., 0., 1., 0., 1., 0., 1., 0., 1., 0., 0.,\n",
       "        0., 1., 0., 0., 0., 2., 0., 0., 1., 0., 0., 0., 0., 0., 0., 0., 0., 1.,\n",
       "        0., 0., 0., 0., 1., 0., 0., 0., 0., 0., 0., 1., 0., 0., 0., 0., 0., 0.,\n",
       "        0., 0., 0., 0., 0., 0., 0., 0., 0., 1.]),\n",
       "bin_edges=tensor([-2.4612, -2.4133, -2.3655, -2.3176, -2.2698, -2.2219, -2.1741, -2.1262,\n",
       "        -2.0784, -2.0305, -1.9827, -1.9348, -1.8870, -1.8391, -1.7913, -1.7435,\n",
       "        -1.6956, -1.6478, -1.5999, -1.5521, -1.5042, -1.4564, -1.4085, -1.3607,\n",
       "        -1.3128, -1.2650, -1.2171, -1.1693, -1.1214, -1.0736, -1.0257, -0.9779,\n",
       "        -0.9301, -0.8822, -0.8344, -0.7865, -0.7387, -0.6908, -0.6430, -0.5951,\n",
       "        -0.5473, -0.4994, -0.4516, -0.4037, -0.3559, -0.3080, -0.2602, -0.2123,\n",
       "        -0.1645, -0.1167, -0.0688, -0.0210,  0.0269,  0.0747,  0.1226,  0.1704,\n",
       "         0.2183,  0.2661,  0.3140,  0.3618,  0.4097,  0.4575,  0.5054,  0.5532,\n",
       "         0.6011,  0.6489,  0.6967,  0.7446,  0.7924,  0.8403,  0.8881,  0.9360,\n",
       "         0.9838,  1.0317,  1.0795,  1.1274,  1.1752,  1.2231,  1.2709,  1.3188,\n",
       "         1.3666,  1.4145,  1.4623,  1.5101,  1.5580,  1.6058,  1.6537,  1.7015,\n",
       "         1.7494,  1.7972,  1.8451,  1.8929,  1.9408,  1.9886,  2.0365,  2.0843,\n",
       "         2.1322,  2.1800,  2.2279,  2.2757,  2.3235]))"
      ]
     },
     "execution_count": 16,
     "metadata": {},
     "output_type": "execute_result"
    }
   ],
   "source": [
    "empty_tensor = torch.empty(25)\n",
    "empty_tensor.normal_().histogram()"
   ]
  },
  {
   "cell_type": "code",
   "execution_count": 17,
   "metadata": {},
   "outputs": [
    {
     "data": {
      "image/png": "[encoded data removed]",
      "text/plain": [
       "<Figure size 432x288 with 1 Axes>"
      ]
     },
     "metadata": {
      "needs_background": "light"
     },
     "output_type": "display_data"
    }
   ],
   "source": [
    "Norm = torch.empty(666).normal_()\n",
    "plt.hist(Norm.numpy());"
   ]
  },
  {
   "cell_type": "code",
   "execution_count": 18,
   "metadata": {},
   "outputs": [
    {
     "data": {
      "text/plain": [
       "tensor([ 2.,  1.,  0.,  0.,  3.,  0.,  1.,  3.,  1.,  0.,  1.,  2.,  4.,  1.,\n",
       "         1.,  3.,  2.,  3.,  5.,  9.,  4.,  4.,  3.,  6.,  5.,  8.,  7.,  6.,\n",
       "         6.,  5.,  8.,  6.,  8., 12., 11., 16., 12.,  8., 13.,  5., 14., 10.,\n",
       "        16., 17., 20., 14., 11., 15., 17., 17., 14., 10., 16., 16., 11., 12.,\n",
       "        13.,  9., 19., 14., 14.,  8., 14., 11., 12., 14.,  8.,  9.,  9.,  8.,\n",
       "         5.,  6.,  5.,  3.,  9.,  5.,  3.,  4.,  7.,  3.,  2.,  6.,  4.,  0.,\n",
       "         3.,  2.,  1.,  1.,  2.,  0.,  3.,  0.,  0.,  1.,  0.,  1.,  0.,  1.,\n",
       "         1.,  1.])"
      ]
     },
     "execution_count": 18,
     "metadata": {},
     "output_type": "execute_result"
    }
   ],
   "source": [
    "Norm.histc()"
   ]
  },
  {
   "cell_type": "code",
   "execution_count": 19,
   "metadata": {},
   "outputs": [
    {
     "data": {
      "text/plain": [
       "torch.return_types.histogram(\n",
       "hist=tensor([ 2.,  1.,  0.,  0.,  3.,  0.,  1.,  3.,  1.,  0.,  1.,  2.,  4.,  1.,\n",
       "         1.,  3.,  2.,  3.,  5.,  9.,  4.,  4.,  3.,  6.,  5.,  8.,  7.,  6.,\n",
       "         6.,  5.,  8.,  6.,  8., 12., 11., 16., 12.,  8., 13.,  5., 14., 10.,\n",
       "        16., 17., 20., 14., 11., 15., 17., 17., 14., 10., 16., 16., 11., 12.,\n",
       "        13.,  9., 19., 14., 14.,  8., 14., 11., 12., 14.,  8.,  9.,  9.,  8.,\n",
       "         5.,  6.,  5.,  3.,  9.,  5.,  3.,  4.,  7.,  3.,  2.,  6.,  4.,  0.,\n",
       "         3.,  2.,  1.,  1.,  2.,  0.,  3.,  0.,  0.,  1.,  0.,  1.,  0.,  1.,\n",
       "         1.,  1.]),\n",
       "bin_edges=tensor([-2.6006, -2.5467, -2.4928, -2.4389, -2.3850, -2.3311, -2.2772, -2.2233,\n",
       "        -2.1694, -2.1155, -2.0616, -2.0077, -1.9538, -1.8999, -1.8460, -1.7921,\n",
       "        -1.7382, -1.6843, -1.6304, -1.5765, -1.5227, -1.4688, -1.4149, -1.3610,\n",
       "        -1.3071, -1.2532, -1.1993, -1.1454, -1.0915, -1.0376, -0.9837, -0.9298,\n",
       "        -0.8759, -0.8220, -0.7681, -0.7142, -0.6603, -0.6064, -0.5525, -0.4986,\n",
       "        -0.4447, -0.3908, -0.3369, -0.2830, -0.2291, -0.1752, -0.1214, -0.0675,\n",
       "        -0.0136,  0.0403,  0.0942,  0.1481,  0.2020,  0.2559,  0.3098,  0.3637,\n",
       "         0.4176,  0.4715,  0.5254,  0.5793,  0.6332,  0.6871,  0.7410,  0.7949,\n",
       "         0.8488,  0.9027,  0.9566,  1.0105,  1.0644,  1.1183,  1.1722,  1.2261,\n",
       "         1.2800,  1.3338,  1.3877,  1.4416,  1.4955,  1.5494,  1.6033,  1.6572,\n",
       "         1.7111,  1.7650,  1.8189,  1.8728,  1.9267,  1.9806,  2.0345,  2.0884,\n",
       "         2.1423,  2.1962,  2.2501,  2.3040,  2.3579,  2.4118,  2.4657,  2.5196,\n",
       "         2.5735,  2.6274,  2.6813,  2.7352,  2.7890]))"
      ]
     },
     "execution_count": 19,
     "metadata": {},
     "output_type": "execute_result"
    }
   ],
   "source": [
    "Norm.histogram()"
   ]
  },
  {
   "cell_type": "markdown",
   "metadata": {},
   "source": [
    "### равномерные распределения"
   ]
  },
  {
   "cell_type": "code",
   "execution_count": 20,
   "metadata": {},
   "outputs": [
    {
     "data": {
      "image/png": "[encoded data removed]",
      "text/plain": [
       "<Figure size 432x288 with 1 Axes>"
      ]
     },
     "metadata": {
      "needs_background": "light"
     },
     "output_type": "display_data"
    }
   ],
   "source": [
    "plt.hist(torch.empty(666).uniform_(2,7).numpy());"
   ]
  },
  {
   "cell_type": "code",
   "execution_count": 21,
   "metadata": {},
   "outputs": [
    {
     "name": "stdout",
     "output_type": "stream",
     "text": [
      "tensor([1., 5., 2., 2., 4., 3., 4., 3., 6., 2.])\n"
     ]
    },
    {
     "data": {
      "image/png": "[encoded data removed]",
      "text/plain": [
       "<Figure size 432x288 with 1 Axes>"
      ]
     },
     "metadata": {
      "needs_background": "light"
     },
     "output_type": "display_data"
    }
   ],
   "source": [
    "Rand = torch.empty(666).random_(1,7)\n",
    "print (Rand[:10])\n",
    "plt.hist(Rand.numpy(), bins=15);"
   ]
  },
  {
   "cell_type": "markdown",
   "metadata": {},
   "source": [
    "## Передаем в тензор произвольное распределение"
   ]
  },
  {
   "cell_type": "code",
   "execution_count": 22,
   "metadata": {},
   "outputs": [
    {
     "data": {
      "image/png": "[encoded data removed]",
      "text/plain": [
       "<Figure size 432x288 with 1 Axes>"
      ]
     },
     "metadata": {
      "needs_background": "light"
     },
     "output_type": "display_data"
    }
   ],
   "source": [
    "plt.hist(torch.tensor(sts.binom(6, .4).rvs(size=100)).numpy(), bins=16)  \n",
    "plt.show()"
   ]
  },
  {
   "cell_type": "markdown",
   "metadata": {},
   "source": [
    "## Строим кривые плотности распределения"
   ]
  },
  {
   "cell_type": "code",
   "execution_count": 23,
   "metadata": {},
   "outputs": [
    {
     "name": "stdout",
     "output_type": "stream",
     "text": [
      "CPU times: user 2 µs, sys: 1 µs, total: 3 µs\n",
      "Wall time: 3.81 µs\n",
      "100 101\n"
     ]
    },
    {
     "data": {
      "image/png": "[encoded data removed]",
      "text/plain": [
       "<Figure size 432x288 with 1 Axes>"
      ]
     },
     "metadata": {
      "needs_background": "light"
     },
     "output_type": "display_data"
    }
   ],
   "source": [
    "%time\n",
    "h, be = torch.empty(100).normal_().histogram()  # 1000000\n",
    "print (len(h), len(be))\n",
    "plt.plot(be[:-1], h, )  \n",
    "plt.show()"
   ]
  },
  {
   "cell_type": "code",
   "execution_count": 24,
   "metadata": {},
   "outputs": [
    {
     "name": "stdout",
     "output_type": "stream",
     "text": [
      "100 101\n"
     ]
    },
    {
     "data": {
      "image/png": "[encoded data removed]",
      "text/plain": [
       "<Figure size 432x288 with 1 Axes>"
      ]
     },
     "metadata": {
      "needs_background": "light"
     },
     "output_type": "display_data"
    }
   ],
   "source": [
    "h, be = torch.empty(100).uniform_(4, 7).histogram() # 1000000\n",
    "print (len(h), len(be))\n",
    "\n",
    "plt.plot(be[1:], h, )  \n",
    "plt.show()"
   ]
  },
  {
   "cell_type": "code",
   "execution_count": 25,
   "metadata": {},
   "outputs": [
    {
     "name": "stdout",
     "output_type": "stream",
     "text": [
      "CPU times: user 2 µs, sys: 1 µs, total: 3 µs\n",
      "Wall time: 3.81 µs\n"
     ]
    },
    {
     "data": {
      "image/png": "[encoded data removed]",
      "text/plain": [
       "<Figure size 432x288 with 1 Axes>"
      ]
     },
     "metadata": {
      "needs_background": "light"
     },
     "output_type": "display_data"
    }
   ],
   "source": [
    "%time\n",
    "h, be = torch.tensor(np.random.normal(size=100)).histogram()   # 1000000\n",
    "\n",
    "plt.plot(be[:-1], h, )  \n",
    "plt.show()"
   ]
  },
  {
   "cell_type": "markdown",
   "metadata": {},
   "source": [
    "## Считаем доверительный интревал"
   ]
  },
  {
   "cell_type": "code",
   "execution_count": 26,
   "metadata": {},
   "outputs": [
    {
     "name": "stdout",
     "output_type": "stream",
     "text": [
      "CPU times: user 2 µs, sys: 0 ns, total: 2 µs\n",
      "Wall time: 3.81 µs\n"
     ]
    },
    {
     "data": {
      "image/png": "[encoded data removed]",
      "text/plain": [
       "<Figure size 432x288 with 1 Axes>"
      ]
     },
     "metadata": {
      "needs_background": "light"
     },
     "output_type": "display_data"
    }
   ],
   "source": [
    "%time\n",
    "example = torch.tensor(sts.norm.rvs(size=100))  # 1000000\n",
    "h, be = example.histogram()   \n",
    "\n",
    "plt.plot(be[:-1], h, )  \n",
    "plt.show()"
   ]
  },
  {
   "cell_type": "code",
   "execution_count": 27,
   "metadata": {},
   "outputs": [
    {
     "name": "stdout",
     "output_type": "stream",
     "text": [
      "μ = 0.0882\n",
      "σ = 1.0189\n"
     ]
    },
    {
     "data": {
      "text/plain": [
       "(0.08190134474447808, 0.09468097975119383)"
      ]
     },
     "execution_count": 27,
     "metadata": {},
     "output_type": "execute_result"
    }
   ],
   "source": [
    "import statsmodels.stats.weightstats as ssw\n",
    "print (u\"\\u03BC = {:.6}\".format(str(example.mean().numpy())))\n",
    "print (u\"\\u03C3 = {:.6}\".format(str(example.std().numpy())))\n",
    "\n",
    "ssw._zconfint_generic(example.mean().numpy(),  example.std().numpy()/np.sqrt(len(example)),\\\n",
    "                      alpha=0.95, alternative='two-sided')"
   ]
  },
  {
   "cell_type": "code",
   "execution_count": null,
   "metadata": {},
   "outputs": [],
   "source": []
  }
 ],
 "metadata": {
  "kernelspec": {
   "display_name": "Python 3",
   "language": "python",
   "name": "python3"
  },
  "language_info": {
   "codemirror_mode": {
    "name": "ipython",
    "version": 3
   },
   "file_extension": ".py",
   "mimetype": "text/x-python",
   "name": "python",
   "nbconvert_exporter": "python",
   "pygments_lexer": "ipython3",
   "version": "3.8.5"
  }
 },
 "nbformat": 4,
 "nbformat_minor": 4
}
