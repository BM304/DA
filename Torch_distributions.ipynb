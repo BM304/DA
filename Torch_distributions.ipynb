{
 "cells": [
  {
   "cell_type": "markdown",
   "metadata": {},
   "source": [
    "# Статистика в PyTorch"
   ]
  },
  {
   "cell_type": "code",
   "execution_count": 1,
   "metadata": {},
   "outputs": [],
   "source": [
    "import torch\n",
    "from torch.distributions.bernoulli import Bernoulli\n",
    "from torch.distributions.binomial import Binomial\n",
    "from torch.distributions.poisson import Poisson\n",
    "from torch.distributions.uniform import Uniform\n",
    "from torch.distributions.normal import Normal\n",
    "import matplotlib.pyplot as plt\n",
    "import numpy as np\n",
    "import scipy.stats as sts"
   ]
  },
  {
   "cell_type": "markdown",
   "metadata": {},
   "source": [
    "## Распределение Бернулли"
   ]
  },
  {
   "cell_type": "code",
   "execution_count": 2,
   "metadata": {},
   "outputs": [
    {
     "name": "stderr",
     "output_type": "stream",
     "text": [
      "/Users/zuyev-av/.local/lib/python3.8/site-packages/torch/distributions/distribution.py:161: UserWarning: sample_n will be deprecated. Use .sample((n,)) instead\n",
      "  warnings.warn('sample_n will be deprecated. Use .sample((n,)) instead', UserWarning)\n"
     ]
    },
    {
     "data": {
      "text/plain": [
       "tensor([[0.],\n",
       "        [0.],\n",
       "        [0.],\n",
       "        [0.],\n",
       "        [1.],\n",
       "        [0.],\n",
       "        [0.],\n",
       "        [1.],\n",
       "        [1.],\n",
       "        [0.],\n",
       "        [0.],\n",
       "        [0.],\n",
       "        [0.],\n",
       "        [1.],\n",
       "        [1.],\n",
       "        [0.],\n",
       "        [0.],\n",
       "        [0.],\n",
       "        [0.],\n",
       "        [0.],\n",
       "        [0.],\n",
       "        [1.],\n",
       "        [1.],\n",
       "        [0.],\n",
       "        [0.]])"
      ]
     },
     "execution_count": 2,
     "metadata": {},
     "output_type": "execute_result"
    }
   ],
   "source": [
    "bernoulli_example = Bernoulli(torch.tensor([0.3]))\n",
    "bernoulli_example.sample_n(25) "
   ]
  },
  {
   "cell_type": "code",
   "execution_count": 3,
   "metadata": {},
   "outputs": [
    {
     "data": {
      "text/plain": [
       "tensor([0.2100])"
      ]
     },
     "execution_count": 3,
     "metadata": {},
     "output_type": "execute_result"
    }
   ],
   "source": [
    "bernoulli_example.variance"
   ]
  },
  {
   "cell_type": "code",
   "execution_count": 4,
   "metadata": {},
   "outputs": [
    {
     "data": {
      "text/plain": [
       "tensor([0.3000])"
      ]
     },
     "execution_count": 4,
     "metadata": {},
     "output_type": "execute_result"
    }
   ],
   "source": [
    "bernoulli_example.mean"
   ]
  },
  {
   "cell_type": "code",
   "execution_count": 5,
   "metadata": {},
   "outputs": [
    {
     "data": {
      "text/plain": [
       "tensor([[[0.],\n",
       "         [0.],\n",
       "         [1.],\n",
       "         [1.],\n",
       "         [0.]],\n",
       "\n",
       "        [[0.],\n",
       "         [0.],\n",
       "         [0.],\n",
       "         [0.],\n",
       "         [0.]],\n",
       "\n",
       "        [[1.],\n",
       "         [0.],\n",
       "         [0.],\n",
       "         [0.],\n",
       "         [0.]]])"
      ]
     },
     "execution_count": 5,
     "metadata": {},
     "output_type": "execute_result"
    }
   ],
   "source": [
    "bernoulli_example.sample(sample_shape=torch.Size([3,5]))"
   ]
  },
  {
   "cell_type": "code",
   "execution_count": 6,
   "metadata": {
    "scrolled": true
   },
   "outputs": [
    {
     "data": {
      "image/png": "[encoded data removed]",
      "text/plain": [
       "<Figure size 432x288 with 1 Axes>"
      ]
     },
     "metadata": {
      "needs_background": "light"
     },
     "output_type": "display_data"
    }
   ],
   "source": [
    "bernoulli_example_samples = bernoulli_example.sample_n(15)\n",
    "plt.hist(bernoulli_example_samples);"
   ]
  },
  {
   "cell_type": "code",
   "execution_count": 7,
   "metadata": {},
   "outputs": [
    {
     "data": {
      "image/png": "[encoded data removed]",
      "text/plain": [
       "<Figure size 432x288 with 1 Axes>"
      ]
     },
     "metadata": {
      "needs_background": "light"
     },
     "output_type": "display_data"
    }
   ],
   "source": [
    "plt.hist(bernoulli_example_samples.numpy());"
   ]
  },
  {
   "cell_type": "markdown",
   "metadata": {},
   "source": [
    "## Биномиальное распределение"
   ]
  },
  {
   "cell_type": "code",
   "execution_count": 8,
   "metadata": {},
   "outputs": [
    {
     "data": {
      "text/plain": [
       "tensor([[4.],\n",
       "        [2.],\n",
       "        [4.],\n",
       "        [2.],\n",
       "        [1.],\n",
       "        [1.],\n",
       "        [2.],\n",
       "        [3.],\n",
       "        [1.],\n",
       "        [2.],\n",
       "        [1.],\n",
       "        [4.],\n",
       "        [2.],\n",
       "        [2.],\n",
       "        [2.],\n",
       "        [4.],\n",
       "        [0.],\n",
       "        [3.],\n",
       "        [3.],\n",
       "        [3.],\n",
       "        [1.],\n",
       "        [1.],\n",
       "        [3.],\n",
       "        [4.],\n",
       "        [2.]])"
      ]
     },
     "execution_count": 8,
     "metadata": {},
     "output_type": "execute_result"
    }
   ],
   "source": [
    "BN = Binomial(torch.tensor([7]), torch.tensor([0.3])).sample_n(25) \n",
    "BN"
   ]
  },
  {
   "cell_type": "code",
   "execution_count": 9,
   "metadata": {},
   "outputs": [
    {
     "data": {
      "image/png": "[encoded data removed]",
      "text/plain": [
       "<Figure size 432x288 with 1 Axes>"
      ]
     },
     "metadata": {
      "needs_background": "light"
     },
     "output_type": "display_data"
    }
   ],
   "source": [
    "plt.hist(BN.numpy());"
   ]
  },
  {
   "cell_type": "markdown",
   "metadata": {},
   "source": [
    "## Распределение Пуассона"
   ]
  },
  {
   "cell_type": "code",
   "execution_count": 10,
   "metadata": {},
   "outputs": [
    {
     "data": {
      "text/plain": [
       "tensor([[3.],\n",
       "        [2.],\n",
       "        [1.],\n",
       "        [4.],\n",
       "        [4.],\n",
       "        [2.],\n",
       "        [1.],\n",
       "        [4.],\n",
       "        [0.],\n",
       "        [2.],\n",
       "        [4.],\n",
       "        [1.],\n",
       "        [4.],\n",
       "        [2.],\n",
       "        [0.],\n",
       "        [3.],\n",
       "        [2.],\n",
       "        [1.],\n",
       "        [1.],\n",
       "        [4.],\n",
       "        [6.],\n",
       "        [2.],\n",
       "        [5.],\n",
       "        [3.],\n",
       "        [1.]])"
      ]
     },
     "execution_count": 10,
     "metadata": {},
     "output_type": "execute_result"
    }
   ],
   "source": [
    "P = Poisson(torch.tensor([3.])).sample_n(25)\n",
    "P"
   ]
  },
  {
   "cell_type": "code",
   "execution_count": 11,
   "metadata": {},
   "outputs": [
    {
     "data": {
      "image/png": "[encoded data removed]",
      "text/plain": [
       "<Figure size 432x288 with 1 Axes>"
      ]
     },
     "metadata": {
      "needs_background": "light"
     },
     "output_type": "display_data"
    }
   ],
   "source": [
    "plt.hist(P.numpy(), bins=16);"
   ]
  },
  {
   "cell_type": "markdown",
   "metadata": {},
   "source": [
    "## Равномерное распределение"
   ]
  },
  {
   "cell_type": "code",
   "execution_count": 12,
   "metadata": {},
   "outputs": [
    {
     "data": {
      "text/plain": [
       "tensor([[8.4347],\n",
       "        [8.3199],\n",
       "        [8.5903],\n",
       "        [8.5257],\n",
       "        [8.2593],\n",
       "        [7.6148],\n",
       "        [8.4729],\n",
       "        [9.2300],\n",
       "        [7.7309],\n",
       "        [7.9104],\n",
       "        [8.6461],\n",
       "        [8.0782],\n",
       "        [8.9415],\n",
       "        [8.5977],\n",
       "        [8.4449],\n",
       "        [8.1388],\n",
       "        [7.5996],\n",
       "        [7.6507],\n",
       "        [7.5521],\n",
       "        [7.5024],\n",
       "        [8.8906],\n",
       "        [8.4280],\n",
       "        [8.3437],\n",
       "        [9.0021],\n",
       "        [7.7517]])"
      ]
     },
     "execution_count": 12,
     "metadata": {},
     "output_type": "execute_result"
    }
   ],
   "source": [
    "U = Uniform(torch.tensor([7.]), torch.tensor([9.3])).sample_n(25) \n",
    "U"
   ]
  },
  {
   "cell_type": "code",
   "execution_count": 13,
   "metadata": {},
   "outputs": [
    {
     "data": {
      "image/png": "[encoded data removed]",
      "text/plain": [
       "<Figure size 432x288 with 1 Axes>"
      ]
     },
     "metadata": {
      "needs_background": "light"
     },
     "output_type": "display_data"
    }
   ],
   "source": [
    "plt.hist(U.numpy());"
   ]
  },
  {
   "cell_type": "markdown",
   "metadata": {},
   "source": [
    "## Нормальное распределение"
   ]
  },
  {
   "cell_type": "code",
   "execution_count": 14,
   "metadata": {},
   "outputs": [
    {
     "data": {
      "text/plain": [
       "tensor([[ 0.9779],\n",
       "        [-1.7412],\n",
       "        [ 0.0714],\n",
       "        [ 2.0187],\n",
       "        [ 2.7941],\n",
       "        [ 3.7800],\n",
       "        [-0.2846],\n",
       "        [ 5.9368],\n",
       "        [ 3.6323],\n",
       "        [ 1.9773],\n",
       "        [ 0.5680],\n",
       "        [ 0.6957],\n",
       "        [-0.7548],\n",
       "        [ 1.1372],\n",
       "        [-1.4806],\n",
       "        [ 0.7859],\n",
       "        [ 0.8473],\n",
       "        [ 2.7076],\n",
       "        [-4.0274],\n",
       "        [-1.7359],\n",
       "        [ 5.6825],\n",
       "        [ 4.7958],\n",
       "        [ 1.1021],\n",
       "        [ 1.0751],\n",
       "        [ 5.5029]])"
      ]
     },
     "execution_count": 14,
     "metadata": {},
     "output_type": "execute_result"
    }
   ],
   "source": [
    "N = Normal(torch.tensor([1.]), torch.tensor([2.3])).sample_n(25) \n",
    "N"
   ]
  },
  {
   "cell_type": "code",
   "execution_count": 15,
   "metadata": {},
   "outputs": [
    {
     "data": {
      "image/png": "[encoded data removed]",
      "text/plain": [
       "<Figure size 432x288 with 1 Axes>"
      ]
     },
     "metadata": {
      "needs_background": "light"
     },
     "output_type": "display_data"
    }
   ],
   "source": [
    "plt.hist(N.numpy());"
   ]
  },
  {
   "cell_type": "markdown",
   "metadata": {},
   "source": [
    "### еще вариант..."
   ]
  },
  {
   "cell_type": "code",
   "execution_count": 16,
   "metadata": {},
   "outputs": [
    {
     "data": {
      "text/plain": [
       "torch.return_types.histogram(\n",
       "hist=tensor([1., 0., 0., 0., 0., 0., 0., 0., 0., 0., 0., 0., 0., 0., 0., 1., 0., 0.,\n",
       "        0., 1., 0., 1., 0., 0., 0., 0., 0., 0., 1., 0., 0., 0., 1., 0., 0., 0.,\n",
       "        1., 1., 0., 1., 1., 0., 0., 0., 0., 0., 0., 0., 0., 2., 1., 0., 0., 0.,\n",
       "        2., 0., 1., 1., 1., 0., 1., 0., 0., 0., 0., 0., 2., 0., 0., 0., 0., 0.,\n",
       "        0., 0., 0., 0., 1., 1., 0., 0., 0., 0., 0., 0., 0., 1., 0., 0., 0., 0.,\n",
       "        0., 0., 0., 0., 0., 0., 0., 0., 0., 1.]),\n",
       "bin_edges=tensor([-1.7234, -1.6850, -1.6466, -1.6081, -1.5697, -1.5313, -1.4928, -1.4544,\n",
       "        -1.4160, -1.3775, -1.3391, -1.3007, -1.2623, -1.2238, -1.1854, -1.1470,\n",
       "        -1.1085, -1.0701, -1.0317, -0.9932, -0.9548, -0.9164, -0.8779, -0.8395,\n",
       "        -0.8011, -0.7626, -0.7242, -0.6858, -0.6473, -0.6089, -0.5705, -0.5320,\n",
       "        -0.4936, -0.4552, -0.4167, -0.3783, -0.3399, -0.3014, -0.2630, -0.2246,\n",
       "        -0.1862, -0.1477, -0.1093, -0.0709, -0.0324,  0.0060,  0.0444,  0.0829,\n",
       "         0.1213,  0.1597,  0.1982,  0.2366,  0.2750,  0.3135,  0.3519,  0.3903,\n",
       "         0.4288,  0.4672,  0.5056,  0.5441,  0.5825,  0.6209,  0.6594,  0.6978,\n",
       "         0.7362,  0.7747,  0.8131,  0.8515,  0.8899,  0.9284,  0.9668,  1.0052,\n",
       "         1.0437,  1.0821,  1.1205,  1.1590,  1.1974,  1.2358,  1.2743,  1.3127,\n",
       "         1.3511,  1.3896,  1.4280,  1.4664,  1.5049,  1.5433,  1.5817,  1.6202,\n",
       "         1.6586,  1.6970,  1.7355,  1.7739,  1.8123,  1.8508,  1.8892,  1.9276,\n",
       "         1.9660,  2.0045,  2.0429,  2.0813,  2.1198]))"
      ]
     },
     "execution_count": 16,
     "metadata": {},
     "output_type": "execute_result"
    }
   ],
   "source": [
    "empty_tensor = torch.empty(25)\n",
    "empty_tensor.normal_().histogram()"
   ]
  },
  {
   "cell_type": "code",
   "execution_count": 17,
   "metadata": {},
   "outputs": [
    {
     "data": {
      "image/png": "[encoded data removed]",
      "text/plain": [
       "<Figure size 432x288 with 1 Axes>"
      ]
     },
     "metadata": {
      "needs_background": "light"
     },
     "output_type": "display_data"
    }
   ],
   "source": [
    "Norm = torch.empty(666).normal_()\n",
    "plt.hist(Norm.numpy());"
   ]
  },
  {
   "cell_type": "code",
   "execution_count": 18,
   "metadata": {},
   "outputs": [
    {
     "data": {
      "text/plain": [
       "tensor([ 1.,  0.,  0.,  0.,  0.,  0.,  0.,  0.,  0.,  0.,  0.,  0.,  0.,  0.,\n",
       "         0.,  2.,  0.,  1.,  0.,  0.,  1.,  1.,  0.,  3.,  1.,  3.,  2.,  3.,\n",
       "         3.,  5.,  4.,  2.,  3.,  7.,  3.,  7.,  7.,  5.,  6.,  8.,  9.,  9.,\n",
       "        17., 10., 10., 14.,  8., 14., 15., 12., 18., 19., 13., 13., 20., 16.,\n",
       "        21., 23., 13., 15., 20., 19., 19., 13., 14., 15., 15., 15., 14., 13.,\n",
       "        10., 13., 13., 13.,  8., 13.,  9.,  7.,  4.,  7.,  3.,  5.,  7.,  7.,\n",
       "         1.,  4.,  2.,  1.,  0.,  2.,  1.,  4.,  3.,  1.,  0.,  0.,  0.,  2.,\n",
       "         1.,  1.])"
      ]
     },
     "execution_count": 18,
     "metadata": {},
     "output_type": "execute_result"
    }
   ],
   "source": [
    "Norm.histc()"
   ]
  },
  {
   "cell_type": "code",
   "execution_count": 19,
   "metadata": {},
   "outputs": [
    {
     "data": {
      "text/plain": [
       "torch.return_types.histogram(\n",
       "hist=tensor([ 1.,  0.,  0.,  0.,  0.,  0.,  0.,  0.,  0.,  0.,  0.,  0.,  0.,  0.,\n",
       "         0.,  2.,  0.,  1.,  0.,  0.,  1.,  1.,  0.,  3.,  1.,  3.,  2.,  3.,\n",
       "         3.,  5.,  4.,  2.,  3.,  7.,  3.,  7.,  7.,  5.,  6.,  8.,  9.,  9.,\n",
       "        17., 10., 10., 14.,  8., 14., 15., 12., 18., 19., 13., 13., 20., 16.,\n",
       "        21., 23., 13., 15., 20., 19., 19., 13., 14., 15., 15., 15., 14., 13.,\n",
       "        10., 13., 13., 13.,  8., 13.,  9.,  7.,  4.,  7.,  3.,  5.,  7.,  7.,\n",
       "         1.,  4.,  2.,  1.,  0.,  2.,  1.,  4.,  3.,  1.,  0.,  0.,  0.,  2.,\n",
       "         1.,  1.]),\n",
       "bin_edges=tensor([-3.7376, -3.6733, -3.6090, -3.5447, -3.4805, -3.4162, -3.3519, -3.2876,\n",
       "        -3.2233, -3.1590, -3.0947, -3.0304, -2.9661, -2.9018, -2.8375, -2.7732,\n",
       "        -2.7089, -2.6446, -2.5803, -2.5160, -2.4517, -2.3875, -2.3232, -2.2589,\n",
       "        -2.1946, -2.1303, -2.0660, -2.0017, -1.9374, -1.8731, -1.8088, -1.7445,\n",
       "        -1.6802, -1.6159, -1.5516, -1.4873, -1.4230, -1.3588, -1.2945, -1.2302,\n",
       "        -1.1659, -1.1016, -1.0373, -0.9730, -0.9087, -0.8444, -0.7801, -0.7158,\n",
       "        -0.6515, -0.5872, -0.5229, -0.4586, -0.3943, -0.3301, -0.2658, -0.2015,\n",
       "        -0.1372, -0.0729, -0.0086,  0.0557,  0.1200,  0.1843,  0.2486,  0.3129,\n",
       "         0.3772,  0.4415,  0.5058,  0.5701,  0.6344,  0.6986,  0.7629,  0.8272,\n",
       "         0.8915,  0.9558,  1.0201,  1.0844,  1.1487,  1.2130,  1.2773,  1.3416,\n",
       "         1.4059,  1.4702,  1.5345,  1.5988,  1.6631,  1.7274,  1.7916,  1.8559,\n",
       "         1.9202,  1.9845,  2.0488,  2.1131,  2.1774,  2.2417,  2.3060,  2.3703,\n",
       "         2.4346,  2.4989,  2.5632,  2.6275,  2.6918]))"
      ]
     },
     "execution_count": 19,
     "metadata": {},
     "output_type": "execute_result"
    }
   ],
   "source": [
    "Norm.histogram()"
   ]
  },
  {
   "cell_type": "markdown",
   "metadata": {},
   "source": [
    "### равномерные распределения"
   ]
  },
  {
   "cell_type": "code",
   "execution_count": 20,
   "metadata": {},
   "outputs": [
    {
     "data": {
      "image/png": "[encoded data removed]",
      "text/plain": [
       "<Figure size 432x288 with 1 Axes>"
      ]
     },
     "metadata": {
      "needs_background": "light"
     },
     "output_type": "display_data"
    }
   ],
   "source": [
    "plt.hist(torch.empty(666).uniform_(2,7).numpy());"
   ]
  },
  {
   "cell_type": "code",
   "execution_count": 39,
   "metadata": {},
   "outputs": [
    {
     "name": "stdout",
     "output_type": "stream",
     "text": [
      "tensor([4., 5., 5., 4., 5., 6., 1., 2., 2., 5.])\n"
     ]
    },
    {
     "data": {
      "image/png": "[encoded data removed]",
      "text/plain": [
       "<Figure size 432x288 with 1 Axes>"
      ]
     },
     "metadata": {
      "needs_background": "light"
     },
     "output_type": "display_data"
    }
   ],
   "source": [
    "Rand = torch.empty(666).random_(1,7)\n",
    "print (Rand[:10])\n",
    "plt.hist(Rand.numpy(), bins=15);"
   ]
  },
  {
   "cell_type": "markdown",
   "metadata": {},
   "source": [
    "## Передаем в тензор произвольное распределение"
   ]
  },
  {
   "cell_type": "code",
   "execution_count": 22,
   "metadata": {},
   "outputs": [
    {
     "data": {
      "image/png": "[encoded data removed]",
      "text/plain": [
       "<Figure size 432x288 with 1 Axes>"
      ]
     },
     "metadata": {
      "needs_background": "light"
     },
     "output_type": "display_data"
    }
   ],
   "source": [
    "plt.hist(torch.tensor(sts.binom(6, .4).rvs(size=100)).numpy(), bins=16)  \n",
    "plt.show()"
   ]
  },
  {
   "cell_type": "markdown",
   "metadata": {},
   "source": [
    "## Строим кривые плотности распределения"
   ]
  },
  {
   "cell_type": "code",
   "execution_count": 23,
   "metadata": {},
   "outputs": [
    {
     "name": "stdout",
     "output_type": "stream",
     "text": [
      "CPU times: user 2 µs, sys: 0 ns, total: 2 µs\n",
      "Wall time: 4.05 µs\n",
      "100 101\n"
     ]
    },
    {
     "data": {
      "image/png": "[encoded data removed]",
      "text/plain": [
       "<Figure size 432x288 with 1 Axes>"
      ]
     },
     "metadata": {
      "needs_background": "light"
     },
     "output_type": "display_data"
    }
   ],
   "source": [
    "%time\n",
    "h, be = torch.empty(100).normal_().histogram()  # 1000000\n",
    "print (len(h), len(be))\n",
    "torch.Tensor.ndim = property(lambda self: len(self.shape))  \n",
    "plt.plot(be[:-1], h, )  \n",
    "plt.show()"
   ]
  },
  {
   "cell_type": "code",
   "execution_count": 24,
   "metadata": {},
   "outputs": [
    {
     "name": "stdout",
     "output_type": "stream",
     "text": [
      "100 101\n"
     ]
    },
    {
     "data": {
      "image/png": "[encoded data removed]",
      "text/plain": [
       "<Figure size 432x288 with 1 Axes>"
      ]
     },
     "metadata": {
      "needs_background": "light"
     },
     "output_type": "display_data"
    }
   ],
   "source": [
    "h, be = torch.empty(100).uniform_(4, 7).histogram() # 1000000\n",
    "print (len(h), len(be))\n",
    "torch.Tensor.ndim = property(lambda self: len(self.shape)) \n",
    "\n",
    "plt.plot(be[1:], h, )  \n",
    "plt.show()"
   ]
  },
  {
   "cell_type": "code",
   "execution_count": 25,
   "metadata": {},
   "outputs": [
    {
     "name": "stdout",
     "output_type": "stream",
     "text": [
      "CPU times: user 2 µs, sys: 1 µs, total: 3 µs\n",
      "Wall time: 4.05 µs\n"
     ]
    },
    {
     "data": {
      "image/png": "[encoded data removed]",
      "text/plain": [
       "<Figure size 432x288 with 1 Axes>"
      ]
     },
     "metadata": {
      "needs_background": "light"
     },
     "output_type": "display_data"
    }
   ],
   "source": [
    "%time\n",
    "h, be = torch.tensor(np.random.normal(size=100)).histogram()   # 1000000\n",
    "torch.Tensor.ndim = property(lambda self: len(self.shape)) \n",
    "\n",
    "plt.plot(be[:-1], h, )  \n",
    "plt.show()"
   ]
  },
  {
   "cell_type": "code",
   "execution_count": 32,
   "metadata": {},
   "outputs": [
    {
     "name": "stdout",
     "output_type": "stream",
     "text": [
      "CPU times: user 2 µs, sys: 1e+03 ns, total: 3 µs\n",
      "Wall time: 5.01 µs\n"
     ]
    },
    {
     "data": {
      "image/png": "[encoded data removed]",
      "text/plain": [
       "<Figure size 432x288 with 1 Axes>"
      ]
     },
     "metadata": {
      "needs_background": "light"
     },
     "output_type": "display_data"
    }
   ],
   "source": [
    "%time\n",
    "example = torch.tensor(sts.norm.rvs(size=100))  # 1000000\n",
    "h, be = example.histogram()   \n",
    "torch.Tensor.ndim = property(lambda self: len(self.shape)) \n",
    "\n",
    "plt.plot(be[:-1], h, )  \n",
    "plt.show()"
   ]
  },
  {
   "cell_type": "code",
   "execution_count": 33,
   "metadata": {},
   "outputs": [
    {
     "name": "stdout",
     "output_type": "stream",
     "text": [
      "μ = -0.000\n",
      "σ = 0.9997\n"
     ]
    },
    {
     "data": {
      "text/plain": [
       "(-0.00015853882814876837, -0.00011888953796674108)"
      ]
     },
     "execution_count": 33,
     "metadata": {},
     "output_type": "execute_result"
    }
   ],
   "source": [
    "import statsmodels.stats.weightstats as ssw\n",
    "print (u\"\\u03BC = {:.6}\".format(str(example.mean().numpy())))\n",
    "print (u\"\\u03C3 = {:.6}\".format(str(example.std().numpy())))\n",
    "\n",
    "ssw._zconfint_generic(example.mean().numpy(),  example.std().numpy()/np.sqrt(len(example)),\\\n",
    "                      alpha=0.95, alternative='two-sided')"
   ]
  },
  {
   "cell_type": "code",
   "execution_count": null,
   "metadata": {},
   "outputs": [],
   "source": []
  }
 ],
 "metadata": {
  "kernelspec": {
   "display_name": "Python 3",
   "language": "python",
   "name": "python3"
  },
  "language_info": {
   "codemirror_mode": {
    "name": "ipython",
    "version": 3
   },
   "file_extension": ".py",
   "mimetype": "text/x-python",
   "name": "python",
   "nbconvert_exporter": "python",
   "pygments_lexer": "ipython3",
   "version": "3.8.5"
  }
 },
 "nbformat": 4,
 "nbformat_minor": 4
}
