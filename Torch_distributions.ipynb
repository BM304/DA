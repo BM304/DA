{
 "cells": [
  {
   "cell_type": "markdown",
   "metadata": {},
   "source": [
    "# Статистика в PyTorch"
   ]
  },
  {
   "cell_type": "code",
   "execution_count": 1,
   "metadata": {},
   "outputs": [],
   "source": [
    "import torch\n",
    "from torch.distributions.bernoulli import Bernoulli\n",
    "from torch.distributions.binomial import Binomial\n",
    "from torch.distributions.poisson import Poisson\n",
    "from torch.distributions.uniform import Uniform\n",
    "from torch.distributions.normal import Normal\n",
    "import matplotlib.pyplot as plt\n",
    "import numpy as np\n",
    "import scipy.stats as sts"
   ]
  },
  {
   "cell_type": "markdown",
   "metadata": {},
   "source": [
    "## Распределение Бернулли"
   ]
  },
  {
   "cell_type": "code",
   "execution_count": 2,
   "metadata": {},
   "outputs": [
    {
     "name": "stderr",
     "output_type": "stream",
     "text": [
      "/Users/zuyev-av/.local/lib/python3.8/site-packages/torch/distributions/distribution.py:161: UserWarning: sample_n will be deprecated. Use .sample((n,)) instead\n",
      "  warnings.warn('sample_n will be deprecated. Use .sample((n,)) instead', UserWarning)\n"
     ]
    },
    {
     "data": {
      "text/plain": [
       "tensor([[0.],\n",
       "        [0.],\n",
       "        [0.],\n",
       "        [0.],\n",
       "        [0.],\n",
       "        [0.],\n",
       "        [0.],\n",
       "        [1.],\n",
       "        [1.],\n",
       "        [1.],\n",
       "        [0.],\n",
       "        [0.],\n",
       "        [1.],\n",
       "        [0.],\n",
       "        [0.],\n",
       "        [1.],\n",
       "        [0.],\n",
       "        [0.],\n",
       "        [1.],\n",
       "        [0.],\n",
       "        [0.],\n",
       "        [0.],\n",
       "        [0.],\n",
       "        [1.],\n",
       "        [0.]])"
      ]
     },
     "execution_count": 2,
     "metadata": {},
     "output_type": "execute_result"
    }
   ],
   "source": [
    "bernoulli_example = Bernoulli(torch.tensor([0.3]))\n",
    "bernoulli_example.sample_n(25) "
   ]
  },
  {
   "cell_type": "code",
   "execution_count": 3,
   "metadata": {},
   "outputs": [
    {
     "data": {
      "text/plain": [
       "tensor([0.2100])"
      ]
     },
     "execution_count": 3,
     "metadata": {},
     "output_type": "execute_result"
    }
   ],
   "source": [
    "bernoulli_example.variance"
   ]
  },
  {
   "cell_type": "code",
   "execution_count": 4,
   "metadata": {},
   "outputs": [
    {
     "data": {
      "text/plain": [
       "tensor([0.3000])"
      ]
     },
     "execution_count": 4,
     "metadata": {},
     "output_type": "execute_result"
    }
   ],
   "source": [
    "bernoulli_example.mean"
   ]
  },
  {
   "cell_type": "code",
   "execution_count": 5,
   "metadata": {},
   "outputs": [
    {
     "data": {
      "text/plain": [
       "tensor([[[0.],\n",
       "         [0.],\n",
       "         [0.],\n",
       "         [0.],\n",
       "         [0.]],\n",
       "\n",
       "        [[0.],\n",
       "         [0.],\n",
       "         [0.],\n",
       "         [0.],\n",
       "         [1.]],\n",
       "\n",
       "        [[0.],\n",
       "         [1.],\n",
       "         [1.],\n",
       "         [0.],\n",
       "         [0.]]])"
      ]
     },
     "execution_count": 5,
     "metadata": {},
     "output_type": "execute_result"
    }
   ],
   "source": [
    "bernoulli_example.sample(sample_shape=torch.Size([3,5]))"
   ]
  },
  {
   "cell_type": "code",
   "execution_count": 6,
   "metadata": {
    "scrolled": true
   },
   "outputs": [
    {
     "data": {
      "image/png": "[encoded data removed]",
      "text/plain": [
       "<Figure size 432x288 with 1 Axes>"
      ]
     },
     "metadata": {
      "needs_background": "light"
     },
     "output_type": "display_data"
    }
   ],
   "source": [
    "bernoulli_example_samples = bernoulli_example.sample_n(15)\n",
    "plt.hist(bernoulli_example_samples);"
   ]
  },
  {
   "cell_type": "code",
   "execution_count": 7,
   "metadata": {},
   "outputs": [
    {
     "data": {
      "image/png": "[encoded data removed]",
      "text/plain": [
       "<Figure size 432x288 with 1 Axes>"
      ]
     },
     "metadata": {
      "needs_background": "light"
     },
     "output_type": "display_data"
    }
   ],
   "source": [
    "plt.hist(bernoulli_example_samples.numpy());"
   ]
  },
  {
   "cell_type": "markdown",
   "metadata": {},
   "source": [
    "## Биномиальное распределение"
   ]
  },
  {
   "cell_type": "code",
   "execution_count": 8,
   "metadata": {},
   "outputs": [
    {
     "data": {
      "text/plain": [
       "tensor([[3.],\n",
       "        [5.],\n",
       "        [3.],\n",
       "        [3.],\n",
       "        [4.],\n",
       "        [2.],\n",
       "        [1.],\n",
       "        [0.],\n",
       "        [4.],\n",
       "        [2.],\n",
       "        [5.],\n",
       "        [5.],\n",
       "        [3.],\n",
       "        [1.],\n",
       "        [3.],\n",
       "        [2.],\n",
       "        [3.],\n",
       "        [4.],\n",
       "        [3.],\n",
       "        [2.],\n",
       "        [4.],\n",
       "        [2.],\n",
       "        [3.],\n",
       "        [2.],\n",
       "        [4.]])"
      ]
     },
     "execution_count": 8,
     "metadata": {},
     "output_type": "execute_result"
    }
   ],
   "source": [
    "BN = Binomial(torch.tensor([7]), torch.tensor([0.3])).sample_n(25) \n",
    "BN"
   ]
  },
  {
   "cell_type": "code",
   "execution_count": 9,
   "metadata": {},
   "outputs": [
    {
     "data": {
      "image/png": "[encoded data removed]",
      "text/plain": [
       "<Figure size 432x288 with 1 Axes>"
      ]
     },
     "metadata": {
      "needs_background": "light"
     },
     "output_type": "display_data"
    }
   ],
   "source": [
    "plt.hist(BN.numpy());"
   ]
  },
  {
   "cell_type": "markdown",
   "metadata": {},
   "source": [
    "## Распределение Пуассона"
   ]
  },
  {
   "cell_type": "code",
   "execution_count": 10,
   "metadata": {},
   "outputs": [
    {
     "data": {
      "text/plain": [
       "tensor([[3.],\n",
       "        [4.],\n",
       "        [1.],\n",
       "        [5.],\n",
       "        [5.],\n",
       "        [3.],\n",
       "        [2.],\n",
       "        [1.],\n",
       "        [1.],\n",
       "        [1.],\n",
       "        [6.],\n",
       "        [3.],\n",
       "        [1.],\n",
       "        [4.],\n",
       "        [5.],\n",
       "        [1.],\n",
       "        [2.],\n",
       "        [3.],\n",
       "        [3.],\n",
       "        [5.],\n",
       "        [2.],\n",
       "        [3.],\n",
       "        [2.],\n",
       "        [2.],\n",
       "        [6.]])"
      ]
     },
     "execution_count": 10,
     "metadata": {},
     "output_type": "execute_result"
    }
   ],
   "source": [
    "P = Poisson(torch.tensor([3.])).sample_n(25)\n",
    "P"
   ]
  },
  {
   "cell_type": "code",
   "execution_count": 11,
   "metadata": {},
   "outputs": [
    {
     "data": {
      "image/png": "[encoded data removed]",
      "text/plain": [
       "<Figure size 432x288 with 1 Axes>"
      ]
     },
     "metadata": {
      "needs_background": "light"
     },
     "output_type": "display_data"
    }
   ],
   "source": [
    "plt.hist(P.numpy(), bins=16);"
   ]
  },
  {
   "cell_type": "markdown",
   "metadata": {},
   "source": [
    "## Равномерное распределение"
   ]
  },
  {
   "cell_type": "code",
   "execution_count": 12,
   "metadata": {},
   "outputs": [
    {
     "data": {
      "text/plain": [
       "tensor([[8.1780],\n",
       "        [8.3311],\n",
       "        [8.9992],\n",
       "        [8.7013],\n",
       "        [8.5165],\n",
       "        [7.8499],\n",
       "        [8.5215],\n",
       "        [8.9632],\n",
       "        [7.2828],\n",
       "        [7.9433],\n",
       "        [8.2613],\n",
       "        [7.8389],\n",
       "        [7.6152],\n",
       "        [7.2636],\n",
       "        [9.0147],\n",
       "        [8.5436],\n",
       "        [7.1916],\n",
       "        [8.8971],\n",
       "        [8.1077],\n",
       "        [8.9395],\n",
       "        [9.0820],\n",
       "        [8.4483],\n",
       "        [8.9468],\n",
       "        [8.4491],\n",
       "        [9.2097]])"
      ]
     },
     "execution_count": 12,
     "metadata": {},
     "output_type": "execute_result"
    }
   ],
   "source": [
    "U = Uniform(torch.tensor([7.]), torch.tensor([9.3])).sample_n(25) \n",
    "U"
   ]
  },
  {
   "cell_type": "code",
   "execution_count": 13,
   "metadata": {},
   "outputs": [
    {
     "data": {
      "image/png": "[encoded data removed]",
      "text/plain": [
       "<Figure size 432x288 with 1 Axes>"
      ]
     },
     "metadata": {
      "needs_background": "light"
     },
     "output_type": "display_data"
    }
   ],
   "source": [
    "plt.hist(U.numpy());"
   ]
  },
  {
   "cell_type": "markdown",
   "metadata": {},
   "source": [
    "## Нормальное распределение"
   ]
  },
  {
   "cell_type": "code",
   "execution_count": 14,
   "metadata": {},
   "outputs": [
    {
     "data": {
      "text/plain": [
       "tensor([[ 0.4445],\n",
       "        [ 0.6226],\n",
       "        [-2.8250],\n",
       "        [-0.6968],\n",
       "        [ 0.7626],\n",
       "        [-1.1683],\n",
       "        [-1.4697],\n",
       "        [-2.4329],\n",
       "        [ 4.1922],\n",
       "        [ 0.3728],\n",
       "        [-0.2829],\n",
       "        [ 0.9307],\n",
       "        [-3.4716],\n",
       "        [-2.3403],\n",
       "        [ 1.3905],\n",
       "        [ 1.3619],\n",
       "        [-2.3268],\n",
       "        [ 1.7826],\n",
       "        [ 6.9192],\n",
       "        [-0.9542],\n",
       "        [ 0.6048],\n",
       "        [ 3.7487],\n",
       "        [ 0.2757],\n",
       "        [ 0.3960],\n",
       "        [ 4.3840]])"
      ]
     },
     "execution_count": 14,
     "metadata": {},
     "output_type": "execute_result"
    }
   ],
   "source": [
    "N = Normal(torch.tensor([1.]), torch.tensor([2.3])).sample_n(25) \n",
    "N"
   ]
  },
  {
   "cell_type": "code",
   "execution_count": 15,
   "metadata": {},
   "outputs": [
    {
     "data": {
      "image/png": "[encoded data removed]",
      "text/plain": [
       "<Figure size 432x288 with 1 Axes>"
      ]
     },
     "metadata": {
      "needs_background": "light"
     },
     "output_type": "display_data"
    }
   ],
   "source": [
    "plt.hist(N.numpy());"
   ]
  },
  {
   "cell_type": "markdown",
   "metadata": {},
   "source": [
    "### еще вариант..."
   ]
  },
  {
   "cell_type": "code",
   "execution_count": 16,
   "metadata": {},
   "outputs": [
    {
     "data": {
      "text/plain": [
       "torch.return_types.histogram(\n",
       "hist=tensor([1., 0., 0., 0., 1., 1., 0., 0., 0., 1., 0., 0., 0., 0., 0., 0., 1., 0.,\n",
       "        0., 0., 0., 0., 0., 0., 0., 1., 0., 0., 0., 0., 0., 2., 0., 2., 0., 0.,\n",
       "        0., 0., 0., 0., 0., 0., 0., 1., 0., 0., 0., 0., 1., 0., 0., 0., 0., 0.,\n",
       "        0., 0., 0., 0., 0., 0., 0., 1., 0., 1., 3., 0., 2., 0., 0., 1., 0., 0.,\n",
       "        0., 1., 0., 0., 0., 0., 0., 0., 0., 0., 0., 0., 0., 0., 0., 0., 0., 1.,\n",
       "        0., 1., 0., 0., 0., 0., 0., 0., 0., 2.]),\n",
       "bin_edges=tensor([-1.5880, -1.5564, -1.5248, -1.4932, -1.4615, -1.4299, -1.3983, -1.3667,\n",
       "        -1.3351, -1.3035, -1.2718, -1.2402, -1.2086, -1.1770, -1.1454, -1.1137,\n",
       "        -1.0821, -1.0505, -1.0189, -0.9873, -0.9557, -0.9240, -0.8924, -0.8608,\n",
       "        -0.8292, -0.7976, -0.7659, -0.7343, -0.7027, -0.6711, -0.6395, -0.6079,\n",
       "        -0.5762, -0.5446, -0.5130, -0.4814, -0.4498, -0.4181, -0.3865, -0.3549,\n",
       "        -0.3233, -0.2917, -0.2601, -0.2284, -0.1968, -0.1652, -0.1336, -0.1020,\n",
       "        -0.0703, -0.0387, -0.0071,  0.0245,  0.0561,  0.0877,  0.1194,  0.1510,\n",
       "         0.1826,  0.2142,  0.2458,  0.2775,  0.3091,  0.3407,  0.3723,  0.4039,\n",
       "         0.4355,  0.4672,  0.4988,  0.5304,  0.5620,  0.5936,  0.6253,  0.6569,\n",
       "         0.6885,  0.7201,  0.7517,  0.7833,  0.8150,  0.8466,  0.8782,  0.9098,\n",
       "         0.9414,  0.9731,  1.0047,  1.0363,  1.0679,  1.0995,  1.1311,  1.1628,\n",
       "         1.1944,  1.2260,  1.2576,  1.2892,  1.3208,  1.3525,  1.3841,  1.4157,\n",
       "         1.4473,  1.4789,  1.5106,  1.5422,  1.5738]))"
      ]
     },
     "execution_count": 16,
     "metadata": {},
     "output_type": "execute_result"
    }
   ],
   "source": [
    "empty_tensor = torch.empty(25)\n",
    "empty_tensor.normal_().histogram()"
   ]
  },
  {
   "cell_type": "code",
   "execution_count": 17,
   "metadata": {},
   "outputs": [
    {
     "data": {
      "image/png": "[encoded data removed]",
      "text/plain": [
       "<Figure size 432x288 with 1 Axes>"
      ]
     },
     "metadata": {
      "needs_background": "light"
     },
     "output_type": "display_data"
    }
   ],
   "source": [
    "Norm = torch.empty(666).normal_()\n",
    "plt.hist(Norm.numpy());"
   ]
  },
  {
   "cell_type": "code",
   "execution_count": 18,
   "metadata": {},
   "outputs": [
    {
     "data": {
      "text/plain": [
       "tensor([ 1.,  2.,  1.,  0.,  1.,  0.,  1.,  1.,  0.,  2.,  1.,  1.,  1.,  5.,\n",
       "         3.,  0.,  4.,  5.,  3.,  3.,  3.,  5.,  8.,  6.,  6.,  6.,  3.,  6.,\n",
       "        12.,  5.,  8.,  9.,  8., 21., 14., 17., 11., 14., 18., 19., 18., 13.,\n",
       "         8., 15., 12., 16., 19., 10.,  9.,  9., 17., 14., 20., 14., 13., 16.,\n",
       "        11., 19., 15.,  9., 10., 15., 10., 13.,  7.,  4.,  4., 11.,  3.,  6.,\n",
       "         7.,  9.,  6.,  1.,  7.,  3.,  6.,  4.,  1.,  1.,  4.,  3.,  3.,  3.,\n",
       "         2.,  3.,  1.,  2.,  1.,  0.,  2.,  0.,  0.,  0.,  0.,  1.,  1.,  0.,\n",
       "         0.,  1.])"
      ]
     },
     "execution_count": 18,
     "metadata": {},
     "output_type": "execute_result"
    }
   ],
   "source": [
    "Norm.histc()"
   ]
  },
  {
   "cell_type": "code",
   "execution_count": 19,
   "metadata": {},
   "outputs": [
    {
     "data": {
      "text/plain": [
       "torch.return_types.histogram(\n",
       "hist=tensor([ 1.,  2.,  1.,  0.,  1.,  0.,  1.,  1.,  0.,  2.,  1.,  1.,  1.,  5.,\n",
       "         3.,  0.,  4.,  5.,  3.,  3.,  3.,  5.,  8.,  6.,  6.,  6.,  3.,  6.,\n",
       "        12.,  5.,  8.,  9.,  8., 21., 14., 17., 11., 14., 18., 19., 18., 13.,\n",
       "         8., 15., 12., 16., 19., 10.,  9.,  9., 17., 14., 20., 14., 13., 16.,\n",
       "        11., 19., 15.,  9., 10., 15., 10., 13.,  7.,  4.,  4., 11.,  3.,  6.,\n",
       "         7.,  9.,  6.,  1.,  7.,  3.,  6.,  4.,  1.,  1.,  4.,  3.,  3.,  3.,\n",
       "         2.,  3.,  1.,  2.,  1.,  0.,  2.,  0.,  0.,  0.,  0.,  1.,  1.,  0.,\n",
       "         0.,  1.]),\n",
       "bin_edges=tensor([-2.7052, -2.6483, -2.5915, -2.5346, -2.4778, -2.4209, -2.3641, -2.3072,\n",
       "        -2.2504, -2.1935, -2.1367, -2.0798, -2.0230, -1.9661, -1.9093, -1.8524,\n",
       "        -1.7956, -1.7387, -1.6819, -1.6250, -1.5682, -1.5113, -1.4545, -1.3976,\n",
       "        -1.3408, -1.2839, -1.2271, -1.1702, -1.1134, -1.0565, -0.9997, -0.9428,\n",
       "        -0.8860, -0.8291, -0.7723, -0.7154, -0.6586, -0.6017, -0.5449, -0.4880,\n",
       "        -0.4312, -0.3743, -0.3175, -0.2606, -0.2038, -0.1469, -0.0901, -0.0332,\n",
       "         0.0236,  0.0805,  0.1373,  0.1942,  0.2510,  0.3079,  0.3647,  0.4216,\n",
       "         0.4784,  0.5353,  0.5921,  0.6490,  0.7058,  0.7627,  0.8195,  0.8764,\n",
       "         0.9332,  0.9901,  1.0469,  1.1038,  1.1606,  1.2175,  1.2743,  1.3312,\n",
       "         1.3880,  1.4449,  1.5017,  1.5586,  1.6154,  1.6723,  1.7291,  1.7860,\n",
       "         1.8428,  1.8997,  1.9565,  2.0134,  2.0702,  2.1271,  2.1839,  2.2408,\n",
       "         2.2976,  2.3545,  2.4113,  2.4682,  2.5250,  2.5819,  2.6387,  2.6956,\n",
       "         2.7524,  2.8093,  2.8661,  2.9230,  2.9798]))"
      ]
     },
     "execution_count": 19,
     "metadata": {},
     "output_type": "execute_result"
    }
   ],
   "source": [
    "Norm.histogram()"
   ]
  },
  {
   "cell_type": "markdown",
   "metadata": {},
   "source": [
    "### равномерные распределения"
   ]
  },
  {
   "cell_type": "code",
   "execution_count": 20,
   "metadata": {},
   "outputs": [
    {
     "data": {
      "image/png": "[encoded data removed]",
      "text/plain": [
       "<Figure size 432x288 with 1 Axes>"
      ]
     },
     "metadata": {
      "needs_background": "light"
     },
     "output_type": "display_data"
    }
   ],
   "source": [
    "plt.hist(torch.empty(666).uniform_(2,7).numpy());"
   ]
  },
  {
   "cell_type": "code",
   "execution_count": 21,
   "metadata": {},
   "outputs": [
    {
     "name": "stdout",
     "output_type": "stream",
     "text": [
      "tensor([4., 6., 4., 4., 6., 3., 6., 1., 6., 6.])\n"
     ]
    },
    {
     "data": {
      "image/png": "[encoded data removed]",
      "text/plain": [
       "<Figure size 432x288 with 1 Axes>"
      ]
     },
     "metadata": {
      "needs_background": "light"
     },
     "output_type": "display_data"
    }
   ],
   "source": [
    "Rand = torch.empty(666).random_(1,7)\n",
    "print (Rand[:10])\n",
    "plt.hist(Rand.numpy(), bins=15);"
   ]
  },
  {
   "cell_type": "markdown",
   "metadata": {},
   "source": [
    "## Передаем в тензор произвольное распределение"
   ]
  },
  {
   "cell_type": "code",
   "execution_count": 22,
   "metadata": {},
   "outputs": [
    {
     "data": {
      "image/png": "[encoded data removed]",
      "text/plain": [
       "<Figure size 432x288 with 1 Axes>"
      ]
     },
     "metadata": {
      "needs_background": "light"
     },
     "output_type": "display_data"
    }
   ],
   "source": [
    "plt.hist(torch.tensor(sts.binom(6, .4).rvs(size=100)).numpy(), bins=16)  \n",
    "plt.show()"
   ]
  },
  {
   "cell_type": "markdown",
   "metadata": {},
   "source": [
    "## Строим кривые плотности распределения"
   ]
  },
  {
   "cell_type": "code",
   "execution_count": 23,
   "metadata": {},
   "outputs": [
    {
     "name": "stdout",
     "output_type": "stream",
     "text": [
      "CPU times: user 2 µs, sys: 1 µs, total: 3 µs\n",
      "Wall time: 5.01 µs\n",
      "100 101\n"
     ]
    },
    {
     "data": {
      "image/png": "[encoded data removed]",
      "text/plain": [
       "<Figure size 432x288 with 1 Axes>"
      ]
     },
     "metadata": {
      "needs_background": "light"
     },
     "output_type": "display_data"
    }
   ],
   "source": [
    "%time\n",
    "h, be = torch.empty(100).normal_().histogram()  # 1000000\n",
    "print (len(h), len(be))\n",
    "torch.Tensor.ndim = property(lambda self: len(self.shape))  \n",
    "plt.plot(be[:-1], h, )  \n",
    "plt.show()"
   ]
  },
  {
   "cell_type": "code",
   "execution_count": 24,
   "metadata": {},
   "outputs": [
    {
     "name": "stdout",
     "output_type": "stream",
     "text": [
      "100 101\n"
     ]
    },
    {
     "data": {
      "image/png": "[encoded data removed]",
      "text/plain": [
       "<Figure size 432x288 with 1 Axes>"
      ]
     },
     "metadata": {
      "needs_background": "light"
     },
     "output_type": "display_data"
    }
   ],
   "source": [
    "h, be = torch.empty(100).uniform_(4, 7).histogram() # 1000000\n",
    "print (len(h), len(be))\n",
    "torch.Tensor.ndim = property(lambda self: len(self.shape)) \n",
    "\n",
    "plt.plot(be[1:], h, )  \n",
    "plt.show()"
   ]
  },
  {
   "cell_type": "code",
   "execution_count": 25,
   "metadata": {},
   "outputs": [
    {
     "name": "stdout",
     "output_type": "stream",
     "text": [
      "CPU times: user 2 µs, sys: 0 ns, total: 2 µs\n",
      "Wall time: 3.81 µs\n"
     ]
    },
    {
     "data": {
      "image/png": "[encoded data removed]",
      "text/plain": [
       "<Figure size 432x288 with 1 Axes>"
      ]
     },
     "metadata": {
      "needs_background": "light"
     },
     "output_type": "display_data"
    }
   ],
   "source": [
    "%time\n",
    "h, be = torch.tensor(np.random.normal(size=100)).histogram()   # 1000000\n",
    "torch.Tensor.ndim = property(lambda self: len(self.shape)) \n",
    "\n",
    "plt.plot(be[:-1], h, )  \n",
    "plt.show()"
   ]
  },
  {
   "cell_type": "code",
   "execution_count": 26,
   "metadata": {},
   "outputs": [
    {
     "name": "stdout",
     "output_type": "stream",
     "text": [
      "CPU times: user 1e+03 ns, sys: 0 ns, total: 1e+03 ns\n",
      "Wall time: 5.01 µs\n"
     ]
    },
    {
     "data": {
      "image/png": "[encoded data removed]",
      "text/plain": [
       "<Figure size 432x288 with 1 Axes>"
      ]
     },
     "metadata": {
      "needs_background": "light"
     },
     "output_type": "display_data"
    }
   ],
   "source": [
    "%time\n",
    "exsample = torch.tensor(sts.norm.rvs(size=100))  # 1000000\n",
    "h, be = exsample.histogram()   \n",
    "torch.Tensor.ndim = property(lambda self: len(self.shape)) \n",
    "\n",
    "plt.plot(be[:-1], h, )  \n",
    "plt.show()"
   ]
  },
  {
   "cell_type": "code",
   "execution_count": 27,
   "metadata": {},
   "outputs": [
    {
     "name": "stdout",
     "output_type": "stream",
     "text": [
      "μ = -0.044\n",
      "σ = 0.8651\n"
     ]
    },
    {
     "data": {
      "text/plain": [
       "(-0.09866251070644017, 0.009836019479791222)"
      ]
     },
     "execution_count": 27,
     "metadata": {},
     "output_type": "execute_result"
    }
   ],
   "source": [
    "import statsmodels.stats.weightstats as ssw\n",
    "print (u\"\\u03BC = {:.6}\".format(str(exsample.mean().numpy())))\n",
    "print (u\"\\u03C3 = {:.6}\".format(str(exsample.std().numpy())))\n",
    "\n",
    "ssw._zconfint_generic(exsample.mean().numpy(),  exsample.std().numpy(), alpha=0.95, alternative='two-sided')"
   ]
  },
  {
   "cell_type": "code",
   "execution_count": null,
   "metadata": {},
   "outputs": [],
   "source": []
  }
 ],
 "metadata": {
  "kernelspec": {
   "display_name": "Python 3",
   "language": "python",
   "name": "python3"
  },
  "language_info": {
   "codemirror_mode": {
    "name": "ipython",
    "version": 3
   },
   "file_extension": ".py",
   "mimetype": "text/x-python",
   "name": "python",
   "nbconvert_exporter": "python",
   "pygments_lexer": "ipython3",
   "version": "3.8.5"
  }
 },
 "nbformat": 4,
 "nbformat_minor": 4
}
