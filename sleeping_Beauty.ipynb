{
 "cells": [
  {
   "cell_type": "markdown",
   "metadata": {},
   "source": [
    "# Парадокс спящей красавицы\n",
    "[Источник](https://ru.wikipedia.org/w/index.php?title=%D0%A2%D0%B5%D0%BE%D1%80%D0%B5%D0%BC%D0%B0_%D0%91%D0%B0%D0%B9%D0%B5%D1%81%D0%B0#:~:text=%D0%9F%D1%80%D0%B8%D0%BC%D0%B5%D1%80%204%C2%A0%E2%80%94%20%D0%BF%D0%B0%D1%80%D0%B0%D0%B4%D0%BE%D0%BA%D1%81%20%D1%82%D0%B5%D0%BE%D1%80%D0%B5%D0%BC%D1%8B%20%D0%91%D0%B0%D0%B9%D0%B5%D1%81%D0%B0%5B%D0%BF%D1%80%D0%B0%D0%B2%D0%B8%D1%82%D1%8C,001%7D%7D%5Capprox%200%7B%2C%7D1098%5Cend%7Baligned%7D%7D%7D)"
   ]
  },
  {
   "cell_type": "code",
   "execution_count": 3,
   "metadata": {},
   "outputs": [],
   "source": [
    "import pandas as pd\n",
    "import numpy as np\n"
   ]
  },
  {
   "cell_type": "markdown",
   "metadata": {},
   "source": [
    "Испытуемой («Спящей красавице») делается укол снотворного. Бросается симметричная монета. В случае выпадения орла её будят, и эксперимент на этом заканчивается. В случае выпадения решки её будят, делают второй укол (после чего она забывает о побудке) и будят на следующий день, не бросая монеты (в таком случае эксперимент идёт два дня подряд). Вся эта процедура Красавице известна, однако у неё нет информации, в какой день её разбудили.\n",
    "\n",
    "Представьте себя на месте Спящей красавицы. Вас разбудили. Какова вероятность того, что монета упала орлом?\n",
    "\n",
    "__Решение 1.__\n",
    "У вас нет никакой информации о результате выпадения монеты и предыдущих побудках. Поскольку известно, что монета честная, можно предположить, что вероятность выпадения орла равна 1/2.\n",
    "\n",
    "__Решение 2.__\n",
    "Проведём эксперимент 1000 раз. Спящую красавицу будят в среднем 500 раз с орлом и 1000 раз с решкой (т. к. в случае решки спящую красавицу будят 2 раза). Поэтому вероятность выпадения орла равна 1/3.\n",
    "Адам Элга утверждает, что правильным ответом является 1/3.\n",
    "\n",
    "При этом до начала испытания (до броска монеты) Спящая красавица оценивает эту вероятность как 1/2, но одновременно знает, что после пробуждения она будет оценивать вероятность как 1/3. В этом и состоит парадокс."
   ]
  },
  {
   "cell_type": "code",
   "execution_count": 8,
   "metadata": {},
   "outputs": [
    {
     "data": {
      "text/plain": [
       "'Орел вапал: 527 раз'"
      ]
     },
     "metadata": {},
     "output_type": "display_data"
    },
    {
     "data": {
      "text/plain": [
       "'Решка вапала: 946 раз'"
      ]
     },
     "metadata": {},
     "output_type": "display_data"
    }
   ],
   "source": [
    "N = 1000\n",
    "cases = []\n",
    "i=1\n",
    "while i <= N:\n",
    "    coin = np.random.choice((\"heads\", \"tails\"), 1)\n",
    "    cases.append(coin)\n",
    "    i+=1\n",
    "    if coin == \"heads\":\n",
    "        pass\n",
    "    elif coin == \"tails\":\n",
    "        cases.append(coin)\n",
    "        \n",
    "display(\"Орел вапал: {} раз\".format(len(pd.DataFrame(cases, columns=[\"REZ\"]).query('REZ ==\"heads\"'))))\n",
    "display(\"Решка вапала: {} раз\".format(len(pd.DataFrame(cases, columns=[\"REZ\"]).query('REZ ==\"tails\"'))))"
   ]
  },
  {
   "cell_type": "code",
   "execution_count": null,
   "metadata": {},
   "outputs": [],
   "source": []
  },
  {
   "cell_type": "code",
   "execution_count": null,
   "metadata": {},
   "outputs": [],
   "source": []
  }
 ],
 "metadata": {
  "kernelspec": {
   "display_name": "Python 3 (ipykernel)",
   "language": "python",
   "name": "python3"
  },
  "language_info": {
   "codemirror_mode": {
    "name": "ipython",
    "version": 3
   },
   "file_extension": ".py",
   "mimetype": "text/x-python",
   "name": "python",
   "nbconvert_exporter": "python",
   "pygments_lexer": "ipython3",
   "version": "3.9.12"
  }
 },
 "nbformat": 4,
 "nbformat_minor": 4
}
